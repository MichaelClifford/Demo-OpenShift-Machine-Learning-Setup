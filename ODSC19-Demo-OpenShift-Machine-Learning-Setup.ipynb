{
 "cells": [
  {
   "cell_type": "markdown",
   "metadata": {},
   "source": [
    "# Setup for s2i notebook deployment on OpenShift\n",
    "\n",
    "This notebook outlines the necessary steps and command line arguments that a user would need to deploy their machine learning notebooks as a flask app on OpenShift. It will cover the following:\n",
    "\n",
    "* Access to OpenShift\n",
    "* Install oc client\n",
    "* Git clone a repo\n",
    "* Deploy new app\n",
    "* Expose it as a service\n",
    "* Interact with the service"
   ]
  },
  {
   "cell_type": "code",
   "execution_count": null,
   "metadata": {},
   "outputs": [],
   "source": []
  },
  {
   "cell_type": "markdown",
   "metadata": {},
   "source": [
    "## Access to OpenShift \n",
    "\n",
    "If you don't already have access to OpenShift you can go to https://www.okd.io/ and try it out yourself or sign up for a free account with OpenShift online (https://www.openshift.com/products/online/)\n",
    "\n",
    "Once you have access to OpenShift you are going to want to use the oc client on your local machine or in a jupyter hub terminal to interact with it.  "
   ]
  },
  {
   "cell_type": "markdown",
   "metadata": {},
   "source": [
    "## Install oc client"
   ]
  },
  {
   "cell_type": "code",
   "execution_count": null,
   "metadata": {},
   "outputs": [],
   "source": [
    "%%bash \n",
    "curl -o oc.tar.gz -L https://mirror.openshift.com/pub/openshift-v4/clients/ocp/latest/openshift-client-linux-4.1.0-rc.0.tar.gz \n",
    "tar xzf oc.tar.gz \n",
    "cp oc ~/../bin/oc"
   ]
  },
  {
   "cell_type": "markdown",
   "metadata": {},
   "source": [
    "## oc commands to login, check your connection to OpenShift and select your project"
   ]
  },
  {
   "cell_type": "code",
   "execution_count": null,
   "metadata": {},
   "outputs": [],
   "source": [
    "! oc login hostname -u user-name -p password"
   ]
  },
  {
   "cell_type": "code",
   "execution_count": null,
   "metadata": {},
   "outputs": [],
   "source": [
    "! oc whoami"
   ]
  },
  {
   "cell_type": "code",
   "execution_count": null,
   "metadata": {},
   "outputs": [],
   "source": [
    "! oc project your-project-name"
   ]
  },
  {
   "cell_type": "markdown",
   "metadata": {},
   "source": [
    "## Clone the correct repo into your local environment or jupyter hub\n",
    "\n",
    "In this example we will be using one of my repos: https://github.com/MichaelClifford/example-model-s2i-notebook\n",
    "\n",
    "However, it is important to note that any repo that follows the same simple conventions can be used."
   ]
  },
  {
   "cell_type": "code",
   "execution_count": null,
   "metadata": {},
   "outputs": [],
   "source": [
    "! git clone https://github.com/MichaelClifford/example-model-s2i-notebook"
   ]
  },
  {
   "cell_type": "markdown",
   "metadata": {},
   "source": [
    "Once the user has made the appropriate changes to their notebook they can push it back to github for the s2i builder. "
   ]
  },
  {
   "cell_type": "markdown",
   "metadata": {},
   "source": [
    "## Build notebook image and launch service\n",
    "\n",
    "On OpenShift, with this simple command below we can invoke a special image builder for notebooks and provided it a github repository containing a machine learning notebook with data collection, processing, training and inference and build an image and deploy it directly as an inference service running a flask application in a pod.    "
   ]
  },
  {
   "cell_type": "code",
   "execution_count": null,
   "metadata": {},
   "outputs": [],
   "source": [
    "%%bash\n",
    "oc new-app --name model \\\n",
    "quay.io/willbenton/simple-model-s2i:demo\\\n",
    "~https://github.com/MichaelClifford/example-model-s2i-notebook"
   ]
  },
  {
   "cell_type": "markdown",
   "metadata": {},
   "source": [
    "## Expose service for interaction with inference engine\n",
    "\n",
    "Finally, just so it can be used by others we need to expose the route of our service so that it can be accessed by other users with the following command. "
   ]
  },
  {
   "cell_type": "code",
   "execution_count": null,
   "metadata": {},
   "outputs": [],
   "source": [
    "! oc expose svc/model "
   ]
  },
  {
   "cell_type": "markdown",
   "metadata": {},
   "source": [
    "## Interact with model\n",
    "\n",
    "This basic code snippet can then be used to interact with the flask app, or if you prefer you could use your favorite REST tool like Insomnia (https://insomnia.rest/)"
   ]
  },
  {
   "cell_type": "code",
   "execution_count": null,
   "metadata": {},
   "outputs": [],
   "source": [
    "import base64\n",
    "import requests\n",
    "import cloudpickle\n",
    "import numpy as np"
   ]
  },
  {
   "cell_type": "code",
   "execution_count": null,
   "metadata": {},
   "outputs": [],
   "source": [
    "baseurl = \"your-models-route\"\n",
    "args = np.ones(29)\n",
    "payload = {'args': base64.b64encode(cloudpickle.dumps(args))}\n",
    "r = requests.post(baseurl + \"/predict\", data=payload)\n",
    "print(\" input is class\", r.text)"
   ]
  }
 ],
 "metadata": {
  "kernelspec": {
   "display_name": "Python TF 1.13",
   "language": "python",
   "name": "tf13"
  },
  "language_info": {
   "codemirror_mode": {
    "name": "ipython",
    "version": 3
   },
   "file_extension": ".py",
   "mimetype": "text/x-python",
   "name": "python",
   "nbconvert_exporter": "python",
   "pygments_lexer": "ipython3",
   "version": "3.7.3"
  },
  "varInspector": {
   "cols": {
    "lenName": 16,
    "lenType": 16,
    "lenVar": 40
   },
   "kernels_config": {
    "python": {
     "delete_cmd_postfix": "",
     "delete_cmd_prefix": "del ",
     "library": "var_list.py",
     "varRefreshCmd": "print(var_dic_list())"
    },
    "r": {
     "delete_cmd_postfix": ") ",
     "delete_cmd_prefix": "rm(",
     "library": "var_list.r",
     "varRefreshCmd": "cat(var_dic_list()) "
    }
   },
   "types_to_exclude": [
    "module",
    "function",
    "builtin_function_or_method",
    "instance",
    "_Feature"
   ],
   "window_display": false
  }
 },
 "nbformat": 4,
 "nbformat_minor": 2
}
